{
  "nbformat": 4,
  "nbformat_minor": 0,
  "metadata": {
    "colab": {
      "provenance": [],
      "collapsed_sections": [],
      "authorship_tag": "ABX9TyMMTwnax0Gz5ILUJ7vbgcLA",
      "include_colab_link": true
    },
    "kernelspec": {
      "name": "python3",
      "display_name": "Python 3"
    },
    "language_info": {
      "name": "python"
    },
    "accelerator": "GPU"
  },
  "cells": [
    {
      "cell_type": "markdown",
      "metadata": {
        "id": "view-in-github",
        "colab_type": "text"
      },
      "source": [
        "<a href=\"https://colab.research.google.com/github/GowthamSid727/Carvana-detection/blob/main/model.ipynb\" target=\"_parent\"><img src=\"https://colab.research.google.com/assets/colab-badge.svg\" alt=\"Open In Colab\"/></a>"
      ]
    },
    {
      "cell_type": "code",
      "execution_count": 15,
      "metadata": {
        "id": "B2hlUcNpIVEu"
      },
      "outputs": [],
      "source": [
        "import torch \n",
        "import torch.nn as nn\n",
        "import numpy as np\n",
        "from torchsummary import summary"
      ]
    },
    {
      "cell_type": "code",
      "source": [
        "device = \"cuda\" if torch.cuda.is_available() else \"cpu\"\n",
        "device\n"
      ],
      "metadata": {
        "colab": {
          "base_uri": "https://localhost:8080/",
          "height": 35
        },
        "id": "C66vMO3dPtU1",
        "outputId": "df6b9a6e-ea3b-482d-a370-f2bca9796411"
      },
      "execution_count": 2,
      "outputs": [
        {
          "output_type": "execute_result",
          "data": {
            "text/plain": [
              "'cuda'"
            ],
            "application/vnd.google.colaboratory.intrinsic+json": {
              "type": "string"
            }
          },
          "metadata": {},
          "execution_count": 2
        }
      ]
    },
    {
      "cell_type": "code",
      "source": [
        "class encoder_conv(nn.Module):\n",
        "    def __init__(self,input,output):\n",
        "        super(encoder_conv,self).__init__()\n",
        "        self.double_conv = nn.Sequential(\n",
        "            nn.Conv2d(input,output,kernel_size=3,stride=1),\n",
        "            nn.BatchNorm2d(output),\n",
        "            nn.ReLU(),\n",
        "            nn.Conv2d(output,output,kernel_size=3,stride=1),\n",
        "            nn.BatchNorm2d(output),\n",
        "            nn.ReLU(),\n",
        "        )\n",
        "    \n",
        "    def forward(self,x):\n",
        "        x = self.double_conv(x)\n",
        "        return x"
      ],
      "metadata": {
        "id": "cuiPujisPuoE"
      },
      "execution_count": 3,
      "outputs": []
    },
    {
      "cell_type": "code",
      "source": [
        "class Unet(nn.Module):\n",
        "    def __init__(self,input,output):\n",
        "        super(Unet,self).__init__()\n",
        "        self.maxpool = nn.MaxPool2d(kernel_size=2,stride=2)\n",
        "        self.downsample_1 = encoder_conv(input,64) \n",
        "        self.downsample_2 = encoder_conv(64,128) \n",
        "        self.downsample_3 = encoder_conv(128,256)\n",
        "        self.downsample_4 = encoder_conv(256,512)\n",
        "        self.bottelneck = encoder_conv(512,1024) \n",
        "        self.upscale_1 = nn.ConvTranspose2d(1024,512,kernel_size=2,stride=2)\n",
        "        self.upconv_1 = encoder_conv(1024,512) \n",
        "        self.upscale_2 = nn.ConvTranspose2d(512,256,2,2)\n",
        "        self.upconv_2 = encoder_conv(512,256)\n",
        "        self.upscale_3 = nn.ConvTranspose2d(256,128,2,2)\n",
        "        self.upconv_3 = encoder_conv(256,128)\n",
        "        self.upscale_4 = nn.ConvTranspose2d(128,64,2,2)\n",
        "        self.upconv_4 = encoder_conv(128,64)\n",
        "        self.fc_conv = nn.Sequential(nn.Conv2d(64,1,2,2),\n",
        "                                     nn.Sigmoid()\n",
        "                                     )\n",
        "    def forward(self,x):\n",
        "        x1 = self.downsample_1(x) # (3,572,572) -> (64,568,568)\n",
        "        x2 = self.maxpool(x1) # (64,568,568)->(64,284,284)\n",
        "        x3 = self.downsample_2(x2)# (64,284,284) -> (128,280,280)\n",
        "        x4 = self.maxpool(x3) #(128,280,280) -> (128,140,140)\n",
        "        x5 = self.downsample_3(x4) # (128,140,140) -> (256,136,136)\n",
        "        x6 = self.maxpool(x5) # (256,136,136) -> (256,68,68)\n",
        "        x7 = self.downsample_4(x6) # (256,68,68) -> (512,64,64)\n",
        "        x8 = self.maxpool(x7) #(512,64,64) -> (512,32,32)\n",
        "        x9 = self.bottelneck(x8) # (512,32,32) -> (1024,28,28)\n",
        "        #upscale\n",
        "        x = self.upscale_1(x9) #(1024,28,28) ->  (512, 56, 56)\n",
        "        y  = x7[:,:,:x.shape[2],:x.shape[2]]\n",
        "        x11 = self.upconv_1(torch.cat((y,x),1)) # torch.cat -> (1024, 56, 56) -> (512, 52, 52)\n",
        "        x = self.upscale_2(x11) # 512, 52, 52 -> 256, 104, 104\n",
        "        y = x5[:,:,:x.shape[2],:x.shape[2]]\n",
        "        x12 = self.upconv_2(torch.cat((y,x),1)) # torch.cat -> 512, 104, 104 ->  256, 100, 100\n",
        "        x = self.upscale_3(x12)\n",
        "        y = x3[:,:,:x.shape[2],:x.shape[2]]\n",
        "        x13 = self.upconv_3(torch.cat((y,x),1))\n",
        "        x = self.upscale_4(x13) \n",
        "        y = x1[:,:,:x.shape[2],:x.shape[2]]\n",
        "        x14 = self.upconv_4(torch.cat((y,x),1))\n",
        "        x15 = self.fc_conv(x14)\n",
        "        return x15"
      ],
      "metadata": {
        "id": "pdb8ttxMQDmU"
      },
      "execution_count": 10,
      "outputs": []
    },
    {
      "cell_type": "code",
      "source": [
        "model = Unet(1,2).to(device=device)\n",
        "image = np.random.randn(1,1,480,480)\n",
        "image = torch.FloatTensor(image)\n",
        "image = image.to(device)"
      ],
      "metadata": {
        "id": "c62YAD2MQmyD"
      },
      "execution_count": 11,
      "outputs": []
    },
    {
      "cell_type": "code",
      "source": [
        "model(image).shape"
      ],
      "metadata": {
        "colab": {
          "base_uri": "https://localhost:8080/"
        },
        "id": "i47FG5QZQoYT",
        "outputId": "19fee470-df13-4fde-d83e-7a4ec24b5b07"
      },
      "execution_count": 12,
      "outputs": [
        {
          "output_type": "execute_result",
          "data": {
            "text/plain": [
              "torch.Size([1, 1, 146, 146])"
            ]
          },
          "metadata": {},
          "execution_count": 12
        }
      ]
    },
    {
      "cell_type": "code",
      "source": [
        "print(model)"
      ],
      "metadata": {
        "colab": {
          "base_uri": "https://localhost:8080/"
        },
        "id": "DAmQB7QQQvx9",
        "outputId": "8ba3d2d5-8db7-486b-a2b0-0b380d98f013"
      },
      "execution_count": 17,
      "outputs": [
        {
          "output_type": "stream",
          "name": "stdout",
          "text": [
            "Unet(\n",
            "  (maxpool): MaxPool2d(kernel_size=2, stride=2, padding=0, dilation=1, ceil_mode=False)\n",
            "  (downsample_1): encoder_conv(\n",
            "    (double_conv): Sequential(\n",
            "      (0): Conv2d(1, 64, kernel_size=(3, 3), stride=(1, 1))\n",
            "      (1): BatchNorm2d(64, eps=1e-05, momentum=0.1, affine=True, track_running_stats=True)\n",
            "      (2): ReLU()\n",
            "      (3): Conv2d(64, 64, kernel_size=(3, 3), stride=(1, 1))\n",
            "      (4): BatchNorm2d(64, eps=1e-05, momentum=0.1, affine=True, track_running_stats=True)\n",
            "      (5): ReLU()\n",
            "    )\n",
            "  )\n",
            "  (downsample_2): encoder_conv(\n",
            "    (double_conv): Sequential(\n",
            "      (0): Conv2d(64, 128, kernel_size=(3, 3), stride=(1, 1))\n",
            "      (1): BatchNorm2d(128, eps=1e-05, momentum=0.1, affine=True, track_running_stats=True)\n",
            "      (2): ReLU()\n",
            "      (3): Conv2d(128, 128, kernel_size=(3, 3), stride=(1, 1))\n",
            "      (4): BatchNorm2d(128, eps=1e-05, momentum=0.1, affine=True, track_running_stats=True)\n",
            "      (5): ReLU()\n",
            "    )\n",
            "  )\n",
            "  (downsample_3): encoder_conv(\n",
            "    (double_conv): Sequential(\n",
            "      (0): Conv2d(128, 256, kernel_size=(3, 3), stride=(1, 1))\n",
            "      (1): BatchNorm2d(256, eps=1e-05, momentum=0.1, affine=True, track_running_stats=True)\n",
            "      (2): ReLU()\n",
            "      (3): Conv2d(256, 256, kernel_size=(3, 3), stride=(1, 1))\n",
            "      (4): BatchNorm2d(256, eps=1e-05, momentum=0.1, affine=True, track_running_stats=True)\n",
            "      (5): ReLU()\n",
            "    )\n",
            "  )\n",
            "  (downsample_4): encoder_conv(\n",
            "    (double_conv): Sequential(\n",
            "      (0): Conv2d(256, 512, kernel_size=(3, 3), stride=(1, 1))\n",
            "      (1): BatchNorm2d(512, eps=1e-05, momentum=0.1, affine=True, track_running_stats=True)\n",
            "      (2): ReLU()\n",
            "      (3): Conv2d(512, 512, kernel_size=(3, 3), stride=(1, 1))\n",
            "      (4): BatchNorm2d(512, eps=1e-05, momentum=0.1, affine=True, track_running_stats=True)\n",
            "      (5): ReLU()\n",
            "    )\n",
            "  )\n",
            "  (bottelneck): encoder_conv(\n",
            "    (double_conv): Sequential(\n",
            "      (0): Conv2d(512, 1024, kernel_size=(3, 3), stride=(1, 1))\n",
            "      (1): BatchNorm2d(1024, eps=1e-05, momentum=0.1, affine=True, track_running_stats=True)\n",
            "      (2): ReLU()\n",
            "      (3): Conv2d(1024, 1024, kernel_size=(3, 3), stride=(1, 1))\n",
            "      (4): BatchNorm2d(1024, eps=1e-05, momentum=0.1, affine=True, track_running_stats=True)\n",
            "      (5): ReLU()\n",
            "    )\n",
            "  )\n",
            "  (upscale_1): ConvTranspose2d(1024, 512, kernel_size=(2, 2), stride=(2, 2))\n",
            "  (upconv_1): encoder_conv(\n",
            "    (double_conv): Sequential(\n",
            "      (0): Conv2d(1024, 512, kernel_size=(3, 3), stride=(1, 1))\n",
            "      (1): BatchNorm2d(512, eps=1e-05, momentum=0.1, affine=True, track_running_stats=True)\n",
            "      (2): ReLU()\n",
            "      (3): Conv2d(512, 512, kernel_size=(3, 3), stride=(1, 1))\n",
            "      (4): BatchNorm2d(512, eps=1e-05, momentum=0.1, affine=True, track_running_stats=True)\n",
            "      (5): ReLU()\n",
            "    )\n",
            "  )\n",
            "  (upscale_2): ConvTranspose2d(512, 256, kernel_size=(2, 2), stride=(2, 2))\n",
            "  (upconv_2): encoder_conv(\n",
            "    (double_conv): Sequential(\n",
            "      (0): Conv2d(512, 256, kernel_size=(3, 3), stride=(1, 1))\n",
            "      (1): BatchNorm2d(256, eps=1e-05, momentum=0.1, affine=True, track_running_stats=True)\n",
            "      (2): ReLU()\n",
            "      (3): Conv2d(256, 256, kernel_size=(3, 3), stride=(1, 1))\n",
            "      (4): BatchNorm2d(256, eps=1e-05, momentum=0.1, affine=True, track_running_stats=True)\n",
            "      (5): ReLU()\n",
            "    )\n",
            "  )\n",
            "  (upscale_3): ConvTranspose2d(256, 128, kernel_size=(2, 2), stride=(2, 2))\n",
            "  (upconv_3): encoder_conv(\n",
            "    (double_conv): Sequential(\n",
            "      (0): Conv2d(256, 128, kernel_size=(3, 3), stride=(1, 1))\n",
            "      (1): BatchNorm2d(128, eps=1e-05, momentum=0.1, affine=True, track_running_stats=True)\n",
            "      (2): ReLU()\n",
            "      (3): Conv2d(128, 128, kernel_size=(3, 3), stride=(1, 1))\n",
            "      (4): BatchNorm2d(128, eps=1e-05, momentum=0.1, affine=True, track_running_stats=True)\n",
            "      (5): ReLU()\n",
            "    )\n",
            "  )\n",
            "  (upscale_4): ConvTranspose2d(128, 64, kernel_size=(2, 2), stride=(2, 2))\n",
            "  (upconv_4): encoder_conv(\n",
            "    (double_conv): Sequential(\n",
            "      (0): Conv2d(128, 64, kernel_size=(3, 3), stride=(1, 1))\n",
            "      (1): BatchNorm2d(64, eps=1e-05, momentum=0.1, affine=True, track_running_stats=True)\n",
            "      (2): ReLU()\n",
            "      (3): Conv2d(64, 64, kernel_size=(3, 3), stride=(1, 1))\n",
            "      (4): BatchNorm2d(64, eps=1e-05, momentum=0.1, affine=True, track_running_stats=True)\n",
            "      (5): ReLU()\n",
            "    )\n",
            "  )\n",
            "  (fc_conv): Sequential(\n",
            "    (0): Conv2d(64, 1, kernel_size=(2, 2), stride=(2, 2))\n",
            "    (1): Sigmoid()\n",
            "  )\n",
            ")\n"
          ]
        }
      ]
    },
    {
      "cell_type": "code",
      "source": [],
      "metadata": {
        "id": "fI71ztftQqeD"
      },
      "execution_count": null,
      "outputs": []
    }
  ]
}